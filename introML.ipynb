{
 "cells": [
  {
   "cell_type": "markdown",
   "metadata": {},
   "source": [
    "## Project description\n",
    "Mobile carrier Megaline has found out that many of their subscribers use legacy plans. They want to develop a model that would analyze subscribers' behavior and recommend one of Megaline's newer plans: Smart or Ultra.\n",
    "You have access to behavior data about subscribers who have already switched to the new plans (from the project for the Statistical Data Analysis course). For this classification task, you need to develop a model that will pick the right plan. Since you’ve already performed the data preprocessing step, you can move straight to creating the model.\n",
    "Develop a model with the highest possible accuracy. In this project, the threshold for accuracy is 0.75. Check the accuracy using the test dataset.\n",
    "\n",
    "### Outline\n",
    "- Exploratory Data Analysis\n",
    "- Supervised Machine Learning\n",
    "    - Decision Tree \n",
    "    - Random Forest \n",
    "    \n",
    "    \n",
    "### Description of data\n",
    "\n",
    "Every observation in the dataset contains monthly behavior information about one user. The information given is as follows:\n",
    "- сalls — number of calls,\n",
    "- minutes — total call duration in minutes,\n",
    "- messages — number of text messages,\n",
    "- mb_used — Internet traffic used in MB,\n",
    "- is_ultra — plan for the current month (Ultra - 1, Smart - 0).\n"
   ]
  },
  {
   "cell_type": "markdown",
   "metadata": {},
   "source": [
    "## Exploratory Data Analysis"
   ]
  },
  {
   "cell_type": "code",
   "execution_count": 1,
   "metadata": {},
   "outputs": [],
   "source": [
    "# Initialize\n",
    "import pandas as pd\n",
    "from sklearn.tree import DecisionTreeClassifier\n",
    "from sklearn.ensemble import RandomForestClassifier\n",
    "from sklearn.metrics import accuracy_score\n",
    "from sklearn.model_selection import train_test_split\n"
   ]
  },
  {
   "cell_type": "code",
   "execution_count": 2,
   "metadata": {
    "scrolled": false
   },
   "outputs": [
    {
     "name": "stdout",
     "output_type": "stream",
     "text": [
      "<class 'pandas.core.frame.DataFrame'>\n",
      "RangeIndex: 3214 entries, 0 to 3213\n",
      "Data columns (total 5 columns):\n",
      " #   Column    Non-Null Count  Dtype  \n",
      "---  ------    --------------  -----  \n",
      " 0   calls     3214 non-null   float64\n",
      " 1   minutes   3214 non-null   float64\n",
      " 2   messages  3214 non-null   float64\n",
      " 3   mb_used   3214 non-null   float64\n",
      " 4   is_ultra  3214 non-null   int64  \n",
      "dtypes: float64(4), int64(1)\n",
      "memory usage: 125.7 KB\n"
     ]
    },
    {
     "data": {
      "text/html": [
       "<div>\n",
       "<style scoped>\n",
       "    .dataframe tbody tr th:only-of-type {\n",
       "        vertical-align: middle;\n",
       "    }\n",
       "\n",
       "    .dataframe tbody tr th {\n",
       "        vertical-align: top;\n",
       "    }\n",
       "\n",
       "    .dataframe thead th {\n",
       "        text-align: right;\n",
       "    }\n",
       "</style>\n",
       "<table border=\"1\" class=\"dataframe\">\n",
       "  <thead>\n",
       "    <tr style=\"text-align: right;\">\n",
       "      <th></th>\n",
       "      <th>calls</th>\n",
       "      <th>minutes</th>\n",
       "      <th>messages</th>\n",
       "      <th>mb_used</th>\n",
       "      <th>is_ultra</th>\n",
       "    </tr>\n",
       "  </thead>\n",
       "  <tbody>\n",
       "    <tr>\n",
       "      <th>0</th>\n",
       "      <td>40.0</td>\n",
       "      <td>311.90</td>\n",
       "      <td>83.0</td>\n",
       "      <td>19915.42</td>\n",
       "      <td>0</td>\n",
       "    </tr>\n",
       "    <tr>\n",
       "      <th>1</th>\n",
       "      <td>85.0</td>\n",
       "      <td>516.75</td>\n",
       "      <td>56.0</td>\n",
       "      <td>22696.96</td>\n",
       "      <td>0</td>\n",
       "    </tr>\n",
       "    <tr>\n",
       "      <th>2</th>\n",
       "      <td>77.0</td>\n",
       "      <td>467.66</td>\n",
       "      <td>86.0</td>\n",
       "      <td>21060.45</td>\n",
       "      <td>0</td>\n",
       "    </tr>\n",
       "    <tr>\n",
       "      <th>3</th>\n",
       "      <td>106.0</td>\n",
       "      <td>745.53</td>\n",
       "      <td>81.0</td>\n",
       "      <td>8437.39</td>\n",
       "      <td>1</td>\n",
       "    </tr>\n",
       "    <tr>\n",
       "      <th>4</th>\n",
       "      <td>66.0</td>\n",
       "      <td>418.74</td>\n",
       "      <td>1.0</td>\n",
       "      <td>14502.75</td>\n",
       "      <td>0</td>\n",
       "    </tr>\n",
       "  </tbody>\n",
       "</table>\n",
       "</div>"
      ],
      "text/plain": [
       "   calls  minutes  messages   mb_used  is_ultra\n",
       "0   40.0   311.90      83.0  19915.42         0\n",
       "1   85.0   516.75      56.0  22696.96         0\n",
       "2   77.0   467.66      86.0  21060.45         0\n",
       "3  106.0   745.53      81.0   8437.39         1\n",
       "4   66.0   418.74       1.0  14502.75         0"
      ]
     },
     "execution_count": 2,
     "metadata": {},
     "output_type": "execute_result"
    }
   ],
   "source": [
    "# Load data\n",
    "df = pd.read_csv('/datasets/users_behavior.csv')\n",
    "\n",
    "# General information\n",
    "df.info()\n",
    "df.head()"
   ]
  },
  {
   "cell_type": "markdown",
   "metadata": {},
   "source": [
    "This dataset contains information on 3214 Megaline subscribers. The minutes and mb_used columns contain decimal values therefore they can remain floats. The calls and messages columns contain whole numbers therefore they will be converted to integers."
   ]
  },
  {
   "cell_type": "code",
   "execution_count": 3,
   "metadata": {},
   "outputs": [
    {
     "name": "stdout",
     "output_type": "stream",
     "text": [
      "<class 'pandas.core.frame.DataFrame'>\n",
      "RangeIndex: 3214 entries, 0 to 3213\n",
      "Data columns (total 5 columns):\n",
      " #   Column    Non-Null Count  Dtype  \n",
      "---  ------    --------------  -----  \n",
      " 0   calls     3214 non-null   int64  \n",
      " 1   minutes   3214 non-null   float64\n",
      " 2   messages  3214 non-null   int64  \n",
      " 3   mb_used   3214 non-null   float64\n",
      " 4   is_ultra  3214 non-null   int64  \n",
      "dtypes: float64(2), int64(3)\n",
      "memory usage: 125.7 KB\n"
     ]
    }
   ],
   "source": [
    "# Converting datatypes\n",
    "df.calls = df['calls'].astype(int)\n",
    "df.messages = df['messages'].astype(int)\n",
    "df.info()"
   ]
  },
  {
   "cell_type": "code",
   "execution_count": 4,
   "metadata": {
    "scrolled": true
   },
   "outputs": [
    {
     "data": {
      "text/html": [
       "<div>\n",
       "<style scoped>\n",
       "    .dataframe tbody tr th:only-of-type {\n",
       "        vertical-align: middle;\n",
       "    }\n",
       "\n",
       "    .dataframe tbody tr th {\n",
       "        vertical-align: top;\n",
       "    }\n",
       "\n",
       "    .dataframe thead th {\n",
       "        text-align: right;\n",
       "    }\n",
       "</style>\n",
       "<table border=\"1\" class=\"dataframe\">\n",
       "  <thead>\n",
       "    <tr style=\"text-align: right;\">\n",
       "      <th></th>\n",
       "      <th>calls</th>\n",
       "      <th>minutes</th>\n",
       "      <th>messages</th>\n",
       "      <th>mb_used</th>\n",
       "      <th>is_ultra</th>\n",
       "    </tr>\n",
       "  </thead>\n",
       "  <tbody>\n",
       "    <tr>\n",
       "      <th>count</th>\n",
       "      <td>3214.000000</td>\n",
       "      <td>3214.000000</td>\n",
       "      <td>3214.000000</td>\n",
       "      <td>3214.000000</td>\n",
       "      <td>3214.000000</td>\n",
       "    </tr>\n",
       "    <tr>\n",
       "      <th>mean</th>\n",
       "      <td>63.038892</td>\n",
       "      <td>438.208787</td>\n",
       "      <td>38.281269</td>\n",
       "      <td>17207.673836</td>\n",
       "      <td>0.306472</td>\n",
       "    </tr>\n",
       "    <tr>\n",
       "      <th>std</th>\n",
       "      <td>33.236368</td>\n",
       "      <td>234.569872</td>\n",
       "      <td>36.148326</td>\n",
       "      <td>7570.968246</td>\n",
       "      <td>0.461100</td>\n",
       "    </tr>\n",
       "    <tr>\n",
       "      <th>min</th>\n",
       "      <td>0.000000</td>\n",
       "      <td>0.000000</td>\n",
       "      <td>0.000000</td>\n",
       "      <td>0.000000</td>\n",
       "      <td>0.000000</td>\n",
       "    </tr>\n",
       "    <tr>\n",
       "      <th>25%</th>\n",
       "      <td>40.000000</td>\n",
       "      <td>274.575000</td>\n",
       "      <td>9.000000</td>\n",
       "      <td>12491.902500</td>\n",
       "      <td>0.000000</td>\n",
       "    </tr>\n",
       "    <tr>\n",
       "      <th>50%</th>\n",
       "      <td>62.000000</td>\n",
       "      <td>430.600000</td>\n",
       "      <td>30.000000</td>\n",
       "      <td>16943.235000</td>\n",
       "      <td>0.000000</td>\n",
       "    </tr>\n",
       "    <tr>\n",
       "      <th>75%</th>\n",
       "      <td>82.000000</td>\n",
       "      <td>571.927500</td>\n",
       "      <td>57.000000</td>\n",
       "      <td>21424.700000</td>\n",
       "      <td>1.000000</td>\n",
       "    </tr>\n",
       "    <tr>\n",
       "      <th>max</th>\n",
       "      <td>244.000000</td>\n",
       "      <td>1632.060000</td>\n",
       "      <td>224.000000</td>\n",
       "      <td>49745.730000</td>\n",
       "      <td>1.000000</td>\n",
       "    </tr>\n",
       "  </tbody>\n",
       "</table>\n",
       "</div>"
      ],
      "text/plain": [
       "             calls      minutes     messages       mb_used     is_ultra\n",
       "count  3214.000000  3214.000000  3214.000000   3214.000000  3214.000000\n",
       "mean     63.038892   438.208787    38.281269  17207.673836     0.306472\n",
       "std      33.236368   234.569872    36.148326   7570.968246     0.461100\n",
       "min       0.000000     0.000000     0.000000      0.000000     0.000000\n",
       "25%      40.000000   274.575000     9.000000  12491.902500     0.000000\n",
       "50%      62.000000   430.600000    30.000000  16943.235000     0.000000\n",
       "75%      82.000000   571.927500    57.000000  21424.700000     1.000000\n",
       "max     244.000000  1632.060000   224.000000  49745.730000     1.000000"
      ]
     },
     "execution_count": 4,
     "metadata": {},
     "output_type": "execute_result"
    }
   ],
   "source": [
    "# Descriptive statistics\n",
    "df.describe()"
   ]
  },
  {
   "cell_type": "code",
   "execution_count": 5,
   "metadata": {
    "scrolled": false
   },
   "outputs": [
    {
     "data": {
      "text/plain": [
       "calls       0\n",
       "minutes     0\n",
       "messages    0\n",
       "mb_used     0\n",
       "is_ultra    0\n",
       "dtype: int64"
      ]
     },
     "execution_count": 5,
     "metadata": {},
     "output_type": "execute_result"
    }
   ],
   "source": [
    "# Find null values\n",
    "df.isna().sum()"
   ]
  },
  {
   "cell_type": "code",
   "execution_count": 6,
   "metadata": {},
   "outputs": [
    {
     "data": {
      "text/plain": [
       "0    0.693528\n",
       "1    0.306472\n",
       "Name: is_ultra, dtype: float64"
      ]
     },
     "execution_count": 6,
     "metadata": {},
     "output_type": "execute_result"
    }
   ],
   "source": [
    "# Percentage of subscribers in each plan\n",
    "df.is_ultra.value_counts(normalize=True)"
   ]
  },
  {
   "cell_type": "markdown",
   "metadata": {},
   "source": [
    "There are no missing values within this dataset. A majority of Megaline clients (69%) are subscribed to the Smart Plan."
   ]
  },
  {
   "cell_type": "markdown",
   "metadata": {},
   "source": [
    "## Supervised Machine Learning"
   ]
  },
  {
   "cell_type": "markdown",
   "metadata": {},
   "source": [
    "Classification tasks deal with categorical targets (e.g. to determine animal species in a picture). Our target consists of two categories: whether a client is currently subscribed to either the Ultra (1) or Smart(0) plans, therefore  it is a binary classification. Decision Tree and Random Forest will be tested to see which is more accurate."
   ]
  },
  {
   "cell_type": "code",
   "execution_count": 7,
   "metadata": {},
   "outputs": [],
   "source": [
    "\n",
    "features = df.drop(columns=['is_ultra'],axis=1)\n",
    "target =  df['is_ultra']\n",
    "\n",
    "# Splitting data into Test and Validation datasets\n",
    "features_train, features_test, target_train, target_test = train_test_split(features, target, test_size=0.2, random_state=12345)\n",
    "features_train, features_valid, target_train, target_valid = train_test_split(features_train, target_train, test_size=0.20, random_state=12345)"
   ]
  },
  {
   "cell_type": "code",
   "execution_count": 8,
   "metadata": {},
   "outputs": [
    {
     "name": "stdout",
     "output_type": "stream",
     "text": [
      "(2056, 4)\n",
      "(2056,)\n",
      "(643, 4)\n",
      "(643,)\n",
      "(515, 4)\n",
      "(515,)\n"
     ]
    }
   ],
   "source": [
    "# Sanity check\n",
    "\n",
    "print(features_train.shape)\n",
    "print(target_train.shape)\n",
    "print(features_test.shape)\n",
    "print(target_test.shape)\n",
    "print(features_valid.shape)\n",
    "print(target_valid.shape)"
   ]
  },
  {
   "cell_type": "markdown",
   "metadata": {},
   "source": [
    "### Decision Tree"
   ]
  },
  {
   "cell_type": "code",
   "execution_count": 15,
   "metadata": {},
   "outputs": [
    {
     "name": "stdout",
     "output_type": "stream",
     "text": [
      "max_depth = 1 : 0.7223300970873786\n",
      "max_depth = 2 : 0.7475728155339806\n",
      "max_depth = 3 : 0.7553398058252427\n",
      "max_depth = 4 : 0.7533980582524272\n",
      "max_depth = 5 : 0.7572815533980582\n",
      "max_depth = 6 : 0.7611650485436893\n",
      "max_depth = 7 : 0.7650485436893204\n",
      "max_depth = 8 : 0.7631067961165049\n",
      "max_depth = 9 : 0.7533980582524272\n"
     ]
    }
   ],
   "source": [
    "# Tuning hyperparameters\n",
    "for depth in range(1, 10):\n",
    "    model = DecisionTreeClassifier(max_depth=depth,random_state=12345) # < create a model, specify max_depth=depth >\n",
    "\n",
    "        # < train the model >\n",
    "    model.fit(features_train,target_train)\n",
    "    predictions_valid = model.predict(features_valid) # < find the predictions using validation set >\n",
    "\n",
    "    print(\"max_depth =\", depth, \": \", end='')\n",
    "    print(accuracy_score(target_valid, predictions_valid)) \n",
    "\n",
    "        \n"
   ]
  },
  {
   "cell_type": "markdown",
   "metadata": {},
   "source": [
    "A max depth of 7 yields the highest accuracy for the validation set."
   ]
  },
  {
   "cell_type": "code",
   "execution_count": 10,
   "metadata": {
    "scrolled": true
   },
   "outputs": [
    {
     "name": "stdout",
     "output_type": "stream",
     "text": [
      "Training set accuracy: 0.8516536964980544\n",
      "Test set accuracy: 0.7916018662519441\n"
     ]
    }
   ],
   "source": [
    "# Train final tree model\n",
    "tree_model = DecisionTreeClassifier(max_depth=7,random_state=12345)\n",
    "tree_model.fit(features_train,target_train)\n",
    "\n",
    "#Predictions\n",
    "decision_prediction_test = tree_model.predict(features_test)\n",
    "tree_train_predictions = tree_model.predict(features_train)\n",
    "\n",
    "# Accuracy\n",
    "print('Training set accuracy:',accuracy_score(target_train,tree_train_predictions))\n",
    "print('Test set accuracy:',accuracy_score(target_test,decision_prediction_test))"
   ]
  },
  {
   "cell_type": "markdown",
   "metadata": {},
   "source": [
    "The best decision tree model yielded an accuracy of 79%."
   ]
  },
  {
   "cell_type": "markdown",
   "metadata": {},
   "source": [
    "### Random Forest "
   ]
  },
  {
   "cell_type": "code",
   "execution_count": 16,
   "metadata": {},
   "outputs": [
    {
     "name": "stdout",
     "output_type": "stream",
     "text": [
      "Accuracy of the best model on the validation set (n_estimators = 28): 0.7883495145631068\n"
     ]
    }
   ],
   "source": [
    "# Tuning hyperparameters\n",
    "\n",
    "best_score = 0\n",
    "best_est = 0\n",
    "for est in range(1, 50): # choose hyperparameter range\n",
    "    model = RandomForestClassifier(random_state=54321, n_estimators=est) # set number of trees\n",
    "    model.fit(features_train,target_train) # train model on training set\n",
    "    score = model.score(features_valid,target_valid) # calculate accuracy score on validation set\n",
    "    if score > best_score:\n",
    "        best_score = score# save best accuracy score on validation set\n",
    "        best_est = est# save number of estimators corresponding to best accuracy score\n",
    "\n",
    "print(\"Accuracy of the best model on the validation set (n_estimators = {}): {}\".format(best_est, best_score))\n",
    "\n"
   ]
  },
  {
   "cell_type": "code",
   "execution_count": 17,
   "metadata": {},
   "outputs": [
    {
     "name": "stdout",
     "output_type": "stream",
     "text": [
      "Training set accuracy: 0.995136186770428\n",
      "Test set accuracy: 0.7853810264385692\n"
     ]
    }
   ],
   "source": [
    "# Train final forest model\n",
    "forest_model = RandomForestClassifier(random_state=54321, n_estimators=28) # change n_estimators to get best model\n",
    "forest_model.fit(features_train, target_train)\n",
    "\n",
    "# Predictions\n",
    "forest_train_predictions = forest_model.predict(features_train)\n",
    "forest_prediction_test = forest_model.predict(features_test)\n",
    "\n",
    "# Accuracy\n",
    "print('Training set accuracy:',accuracy_score(target_train,forest_train_predictions))\n",
    "print('Test set accuracy:',accuracy_score(target_test,forest_prediction_test))\n",
    "\n"
   ]
  },
  {
   "cell_type": "markdown",
   "metadata": {},
   "source": [
    "The best random forest model yielded an accuracy of 78.5%"
   ]
  },
  {
   "cell_type": "markdown",
   "metadata": {},
   "source": [
    "## Conclusion"
   ]
  },
  {
   "cell_type": "markdown",
   "metadata": {},
   "source": [
    "The random forest and decision tree algorithms had a slight difference in performance in terms of accuracy, but tuning the hyperparameters for the random forest classifier is a very computationally intensive task. The decision tree algorithim was slightly more accurate, yielding an accuracy of 79% on the test set."
   ]
  }
 ],
 "metadata": {
  "ExecuteTimeLog": [
   {
    "duration": 42,
    "start_time": "2022-04-17T01:52:18.803Z"
   },
   {
    "duration": 407,
    "start_time": "2022-04-17T01:52:28.410Z"
   },
   {
    "duration": 1508,
    "start_time": "2022-04-18T02:34:26.876Z"
   },
   {
    "duration": 32,
    "start_time": "2022-04-18T02:34:35.119Z"
   },
   {
    "duration": 44,
    "start_time": "2022-04-18T02:34:56.829Z"
   },
   {
    "duration": 6,
    "start_time": "2022-04-18T02:38:17.711Z"
   },
   {
    "duration": 6,
    "start_time": "2022-04-18T02:38:33.240Z"
   },
   {
    "duration": 17,
    "start_time": "2022-04-18T02:38:36.338Z"
   },
   {
    "duration": 9,
    "start_time": "2022-04-18T02:39:04.038Z"
   },
   {
    "duration": 33,
    "start_time": "2022-04-18T02:39:16.405Z"
   },
   {
    "duration": 94,
    "start_time": "2022-04-18T02:39:46.840Z"
   },
   {
    "duration": 11,
    "start_time": "2022-04-18T02:49:35.820Z"
   },
   {
    "duration": 6,
    "start_time": "2022-04-18T02:50:38.537Z"
   },
   {
    "duration": 9,
    "start_time": "2022-04-18T04:20:55.415Z"
   },
   {
    "duration": 158,
    "start_time": "2022-04-18T04:21:19.141Z"
   },
   {
    "duration": 5,
    "start_time": "2022-04-18T04:22:15.685Z"
   },
   {
    "duration": 25,
    "start_time": "2022-04-18T04:22:18.521Z"
   },
   {
    "duration": 41,
    "start_time": "2022-04-18T04:22:31.412Z"
   },
   {
    "duration": 59,
    "start_time": "2022-04-18T04:23:09.927Z"
   },
   {
    "duration": 61,
    "start_time": "2022-04-18T04:23:52.273Z"
   },
   {
    "duration": 159,
    "start_time": "2022-04-18T04:25:32.451Z"
   },
   {
    "duration": 537,
    "start_time": "2022-04-18T04:26:00.771Z"
   },
   {
    "duration": 48,
    "start_time": "2022-04-18T04:27:22.825Z"
   },
   {
    "duration": 69,
    "start_time": "2022-04-18T04:28:34.587Z"
   },
   {
    "duration": 492,
    "start_time": "2022-04-18T04:32:52.750Z"
   },
   {
    "duration": 504,
    "start_time": "2022-04-18T04:33:22.836Z"
   },
   {
    "duration": 71,
    "start_time": "2022-04-18T04:33:51.059Z"
   },
   {
    "duration": 111,
    "start_time": "2022-04-18T04:36:00.154Z"
   },
   {
    "duration": 103,
    "start_time": "2022-04-18T04:36:10.721Z"
   },
   {
    "duration": 103,
    "start_time": "2022-04-18T04:36:21.635Z"
   },
   {
    "duration": 1091,
    "start_time": "2022-04-18T04:36:33.467Z"
   },
   {
    "duration": 1140,
    "start_time": "2022-04-18T04:38:36.101Z"
   },
   {
    "duration": 97,
    "start_time": "2022-04-18T04:39:47.458Z"
   },
   {
    "duration": 1565,
    "start_time": "2022-04-18T04:40:19.322Z"
   },
   {
    "duration": 47,
    "start_time": "2022-04-18T04:40:20.890Z"
   },
   {
    "duration": 27,
    "start_time": "2022-04-18T04:40:20.940Z"
   },
   {
    "duration": 32,
    "start_time": "2022-04-18T04:40:20.970Z"
   },
   {
    "duration": 9,
    "start_time": "2022-04-18T04:40:21.005Z"
   },
   {
    "duration": 287,
    "start_time": "2022-04-18T04:40:21.015Z"
   },
   {
    "duration": 0,
    "start_time": "2022-04-18T04:40:21.304Z"
   },
   {
    "duration": 0,
    "start_time": "2022-04-18T04:40:21.306Z"
   },
   {
    "duration": 92,
    "start_time": "2022-04-18T04:41:38.501Z"
   },
   {
    "duration": 57,
    "start_time": "2022-04-18T04:42:14.939Z"
   },
   {
    "duration": 57,
    "start_time": "2022-04-18T04:42:35.282Z"
   },
   {
    "duration": 97,
    "start_time": "2022-04-18T04:42:40.749Z"
   },
   {
    "duration": 114,
    "start_time": "2022-04-18T04:43:08.787Z"
   },
   {
    "duration": 114,
    "start_time": "2022-04-18T04:43:41.310Z"
   },
   {
    "duration": 1369,
    "start_time": "2022-04-18T04:43:58.748Z"
   },
   {
    "duration": 111,
    "start_time": "2022-04-18T04:44:47.452Z"
   },
   {
    "duration": 6,
    "start_time": "2022-04-18T04:45:08.784Z"
   },
   {
    "duration": 116,
    "start_time": "2022-04-18T04:51:00.246Z"
   },
   {
    "duration": 129,
    "start_time": "2022-04-18T04:51:26.716Z"
   },
   {
    "duration": 115,
    "start_time": "2022-04-18T04:51:57.863Z"
   },
   {
    "duration": 1161,
    "start_time": "2022-04-18T04:52:25.661Z"
   },
   {
    "duration": 122,
    "start_time": "2022-04-18T04:57:10.961Z"
   },
   {
    "duration": 124,
    "start_time": "2022-04-18T04:58:02.088Z"
   },
   {
    "duration": 1428,
    "start_time": "2022-04-18T04:58:38.270Z"
   },
   {
    "duration": 1377,
    "start_time": "2022-04-18T04:59:34.224Z"
   },
   {
    "duration": 13,
    "start_time": "2022-04-18T05:05:20.004Z"
   },
   {
    "duration": 5,
    "start_time": "2022-04-18T05:05:21.433Z"
   },
   {
    "duration": 104,
    "start_time": "2022-04-18T05:05:24.975Z"
   },
   {
    "duration": 1225,
    "start_time": "2022-04-18T05:05:28.128Z"
   },
   {
    "duration": 1161,
    "start_time": "2022-04-18T05:05:35.569Z"
   },
   {
    "duration": 7011,
    "start_time": "2022-04-18T05:05:40.266Z"
   },
   {
    "duration": 6955,
    "start_time": "2022-04-18T05:05:53.168Z"
   },
   {
    "duration": 11,
    "start_time": "2022-04-18T05:06:19.791Z"
   },
   {
    "duration": 6,
    "start_time": "2022-04-18T05:06:27.087Z"
   },
   {
    "duration": 112,
    "start_time": "2022-04-18T05:06:29.734Z"
   },
   {
    "duration": 7421,
    "start_time": "2022-04-18T05:06:54.177Z"
   },
   {
    "duration": 174,
    "start_time": "2022-04-18T05:07:06.578Z"
   },
   {
    "duration": 11,
    "start_time": "2022-04-18T05:10:20.222Z"
   },
   {
    "duration": 7,
    "start_time": "2022-04-18T05:10:21.997Z"
   },
   {
    "duration": 146,
    "start_time": "2022-04-18T05:10:25.085Z"
   },
   {
    "duration": 104,
    "start_time": "2022-04-18T05:10:46.034Z"
   },
   {
    "duration": 6782,
    "start_time": "2022-04-18T05:10:52.807Z"
   },
   {
    "duration": 201,
    "start_time": "2022-04-18T05:11:05.485Z"
   },
   {
    "duration": 344,
    "start_time": "2022-04-18T05:12:04.723Z"
   },
   {
    "duration": 372,
    "start_time": "2022-04-18T05:13:43.439Z"
   },
   {
    "duration": 7,
    "start_time": "2022-04-18T05:13:58.069Z"
   },
   {
    "duration": 349,
    "start_time": "2022-04-18T05:14:05.093Z"
   },
   {
    "duration": 112,
    "start_time": "2022-04-18T05:14:11.715Z"
   },
   {
    "duration": 228,
    "start_time": "2022-04-18T05:14:41.922Z"
   },
   {
    "duration": 2020,
    "start_time": "2022-04-18T05:15:31.878Z"
   },
   {
    "duration": 155,
    "start_time": "2022-04-18T05:15:38.789Z"
   },
   {
    "duration": 148,
    "start_time": "2022-04-18T05:16:13.964Z"
   },
   {
    "duration": 110,
    "start_time": "2022-04-18T05:16:46.017Z"
   },
   {
    "duration": 131,
    "start_time": "2022-04-18T05:18:50.823Z"
   },
   {
    "duration": 16,
    "start_time": "2022-04-18T05:18:53.593Z"
   },
   {
    "duration": 87,
    "start_time": "2022-04-18T05:21:59.671Z"
   },
   {
    "duration": 48,
    "start_time": "2022-04-18T05:22:40.464Z"
   },
   {
    "duration": 96,
    "start_time": "2022-04-18T05:22:49.843Z"
   },
   {
    "duration": 130,
    "start_time": "2022-04-18T05:30:11.907Z"
   },
   {
    "duration": 135,
    "start_time": "2022-04-18T05:32:44.350Z"
   },
   {
    "duration": 18,
    "start_time": "2022-04-18T05:33:33.285Z"
   },
   {
    "duration": 134,
    "start_time": "2022-04-18T05:33:42.187Z"
   },
   {
    "duration": 23,
    "start_time": "2022-04-18T05:35:03.290Z"
   },
   {
    "duration": 133,
    "start_time": "2022-04-18T05:36:26.178Z"
   },
   {
    "duration": 133,
    "start_time": "2022-04-18T05:36:31.406Z"
   },
   {
    "duration": 138,
    "start_time": "2022-04-18T05:37:29.350Z"
   },
   {
    "duration": 133,
    "start_time": "2022-04-18T05:39:02.463Z"
   },
   {
    "duration": 96,
    "start_time": "2022-04-18T05:43:34.698Z"
   },
   {
    "duration": 134,
    "start_time": "2022-04-18T05:43:42.712Z"
   },
   {
    "duration": 15,
    "start_time": "2022-04-18T05:44:06.598Z"
   },
   {
    "duration": 85,
    "start_time": "2022-04-18T05:44:40.365Z"
   },
   {
    "duration": 23,
    "start_time": "2022-04-18T05:44:44.888Z"
   },
   {
    "duration": 22,
    "start_time": "2022-04-18T05:44:57.783Z"
   },
   {
    "duration": 142,
    "start_time": "2022-04-18T05:47:07.728Z"
   },
   {
    "duration": 16,
    "start_time": "2022-04-18T05:47:21.397Z"
   },
   {
    "duration": 22,
    "start_time": "2022-04-18T05:48:38.491Z"
   },
   {
    "duration": 1606,
    "start_time": "2022-04-18T05:50:08.110Z"
   },
   {
    "duration": 56,
    "start_time": "2022-04-18T05:50:09.720Z"
   },
   {
    "duration": 20,
    "start_time": "2022-04-18T05:50:09.778Z"
   },
   {
    "duration": 53,
    "start_time": "2022-04-18T05:50:09.800Z"
   },
   {
    "duration": 9,
    "start_time": "2022-04-18T05:50:09.857Z"
   },
   {
    "duration": 16,
    "start_time": "2022-04-18T05:50:09.869Z"
   },
   {
    "duration": 7,
    "start_time": "2022-04-18T05:50:09.887Z"
   },
   {
    "duration": 156,
    "start_time": "2022-04-18T05:50:09.897Z"
   },
   {
    "duration": 24,
    "start_time": "2022-04-18T05:50:10.055Z"
   },
   {
    "duration": 1826,
    "start_time": "2022-04-18T05:50:10.081Z"
   },
   {
    "duration": 151,
    "start_time": "2022-04-18T05:50:11.909Z"
   },
   {
    "duration": 169,
    "start_time": "2022-04-18T05:50:12.062Z"
   },
   {
    "duration": 17,
    "start_time": "2022-04-18T05:50:24.971Z"
   },
   {
    "duration": 13,
    "start_time": "2022-04-18T06:11:45.105Z"
   },
   {
    "duration": 5,
    "start_time": "2022-04-18T06:11:46.471Z"
   },
   {
    "duration": 11,
    "start_time": "2022-04-18T06:12:14.732Z"
   },
   {
    "duration": 1526,
    "start_time": "2022-04-18T06:13:24.344Z"
   },
   {
    "duration": 55,
    "start_time": "2022-04-18T06:13:25.873Z"
   },
   {
    "duration": 33,
    "start_time": "2022-04-18T06:13:25.930Z"
   },
   {
    "duration": 38,
    "start_time": "2022-04-18T06:13:25.966Z"
   },
   {
    "duration": 9,
    "start_time": "2022-04-18T06:13:26.007Z"
   },
   {
    "duration": 42,
    "start_time": "2022-04-18T06:13:26.018Z"
   },
   {
    "duration": 8,
    "start_time": "2022-04-18T06:13:26.062Z"
   },
   {
    "duration": 137,
    "start_time": "2022-04-18T06:13:26.072Z"
   },
   {
    "duration": 40,
    "start_time": "2022-04-18T06:13:26.211Z"
   },
   {
    "duration": 1867,
    "start_time": "2022-04-18T06:13:26.254Z"
   },
   {
    "duration": 160,
    "start_time": "2022-04-18T06:13:28.123Z"
   },
   {
    "duration": 14,
    "start_time": "2022-04-18T06:13:28.286Z"
   },
   {
    "duration": 146,
    "start_time": "2022-04-18T06:14:02.520Z"
   },
   {
    "duration": 151,
    "start_time": "2022-04-18T06:14:26.235Z"
   },
   {
    "duration": 156,
    "start_time": "2022-04-18T06:14:32.045Z"
   },
   {
    "duration": 9,
    "start_time": "2022-04-18T06:32:21.758Z"
   },
   {
    "duration": 13,
    "start_time": "2022-04-18T06:32:56.414Z"
   },
   {
    "duration": 85,
    "start_time": "2022-04-18T07:03:56.328Z"
   },
   {
    "duration": 48,
    "start_time": "2022-04-18T07:10:39.936Z"
   },
   {
    "duration": 89,
    "start_time": "2022-04-18T07:10:49.710Z"
   },
   {
    "duration": 1614,
    "start_time": "2022-04-18T07:13:03.157Z"
   },
   {
    "duration": 53,
    "start_time": "2022-04-18T07:13:04.773Z"
   },
   {
    "duration": 35,
    "start_time": "2022-04-18T07:13:04.829Z"
   },
   {
    "duration": 35,
    "start_time": "2022-04-18T07:13:04.867Z"
   },
   {
    "duration": 48,
    "start_time": "2022-04-18T07:13:04.906Z"
   },
   {
    "duration": 16,
    "start_time": "2022-04-18T07:13:04.956Z"
   },
   {
    "duration": 12,
    "start_time": "2022-04-18T07:13:04.974Z"
   },
   {
    "duration": 7,
    "start_time": "2022-04-18T07:13:04.988Z"
   },
   {
    "duration": 153,
    "start_time": "2022-04-18T07:13:04.998Z"
   },
   {
    "duration": 23,
    "start_time": "2022-04-18T07:13:05.153Z"
   },
   {
    "duration": 1864,
    "start_time": "2022-04-18T07:13:05.179Z"
   },
   {
    "duration": 90,
    "start_time": "2022-04-18T07:13:07.045Z"
   },
   {
    "duration": 176,
    "start_time": "2022-04-18T07:13:07.137Z"
   },
   {
    "duration": 259,
    "start_time": "2022-04-18T07:14:20.857Z"
   },
   {
    "duration": 99,
    "start_time": "2022-04-18T07:14:32.870Z"
   },
   {
    "duration": 7503,
    "start_time": "2022-04-18T07:16:14.683Z"
   },
   {
    "duration": 201,
    "start_time": "2022-04-18T07:17:15.777Z"
   }
  ],
  "kernelspec": {
   "display_name": "Python 3 (ipykernel)",
   "language": "python",
   "name": "python3"
  },
  "language_info": {
   "codemirror_mode": {
    "name": "ipython",
    "version": 3
   },
   "file_extension": ".py",
   "mimetype": "text/x-python",
   "name": "python",
   "nbconvert_exporter": "python",
   "pygments_lexer": "ipython3",
   "version": "3.9.7"
  },
  "toc": {
   "base_numbering": 1,
   "nav_menu": {},
   "number_sections": true,
   "sideBar": true,
   "skip_h1_title": true,
   "title_cell": "Table of Contents",
   "title_sidebar": "Contents",
   "toc_cell": false,
   "toc_position": {},
   "toc_section_display": true,
   "toc_window_display": false
  }
 },
 "nbformat": 4,
 "nbformat_minor": 2
}
